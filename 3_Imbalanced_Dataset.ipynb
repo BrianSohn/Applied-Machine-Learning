{
 "cells": [
  {
   "cell_type": "markdown",
   "metadata": {
    "id": "mkiYBKTBFV-Z"
   },
   "source": [
    "## Homework 3\n",
    "### Part 1: Imbalanced Dataset\n",
    "\n",
    " In this homework, you will be working with an imbalanced Dataset. The dataset is Credit Card Fraud Detection dataset which was hosted on Kaggle. The aim is to detect fraudlent transactions."
   ]
  },
  {
   "cell_type": "markdown",
   "metadata": {
    "id": "QXjHDwbBGaYB"
   },
   "source": [
    "### Instructions\n",
    "\n",
    "Please push the .ipynb, .py, and .pdf to Github Classroom prior to the deadline. Please include your UNI as well."
   ]
  },
  {
   "cell_type": "markdown",
   "metadata": {},
   "source": [
    "# Name: Brian Sohn, UNI: bs3358"
   ]
  },
  {
   "cell_type": "markdown",
   "metadata": {
    "id": "yCpeRNO9GjyP"
   },
   "source": [
    "### Setup"
   ]
  },
  {
   "cell_type": "code",
   "execution_count": 20,
   "metadata": {
    "id": "UB0aoX-eGX0X"
   },
   "outputs": [],
   "source": [
    "import numpy as np\n",
    "import pandas as pd\n",
    "import matplotlib.pyplot as plt\n",
    "import seaborn as sns"
   ]
  },
  {
   "cell_type": "code",
   "execution_count": 21,
   "metadata": {
    "id": "f25EsV59GmeU"
   },
   "outputs": [],
   "source": [
    "# Feel free to import any other packages you'd like to"
   ]
  },
  {
   "cell_type": "markdown",
   "metadata": {
    "id": "s6DdcyXWGtHm"
   },
   "source": [
    "### **Data Preprocessing and Exploration**\n",
    "Download the Kaggle Credit Card Fraud data set. Features V1, V2, … V28 are the principal components obtained with PCA, the only features which have not been transformed with PCA are 'Time' and 'Amount'. Feature 'Time' contains the seconds elapsed between each transaction and the first transaction in the dataset. The feature 'Amount' is the transaction Amount, this feature can be used for example-dependant cost-sensitive learning. Feature 'Class' is the response variable and it takes value 1 in case of fraud and 0 otherwise."
   ]
  },
  {
   "cell_type": "code",
   "execution_count": 26,
   "metadata": {
    "colab": {
     "base_uri": "https://localhost:8080/",
     "height": 300
    },
    "id": "gzbL79SLGwTc",
    "outputId": "a7334725-a6ff-41ab-a78f-fbd79053352b"
   },
   "outputs": [
    {
     "data": {
      "text/html": [
       "<div>\n",
       "<style scoped>\n",
       "    .dataframe tbody tr th:only-of-type {\n",
       "        vertical-align: middle;\n",
       "    }\n",
       "\n",
       "    .dataframe tbody tr th {\n",
       "        vertical-align: top;\n",
       "    }\n",
       "\n",
       "    .dataframe thead th {\n",
       "        text-align: right;\n",
       "    }\n",
       "</style>\n",
       "<table border=\"1\" class=\"dataframe\">\n",
       "  <thead>\n",
       "    <tr style=\"text-align: right;\">\n",
       "      <th></th>\n",
       "      <th>Time</th>\n",
       "      <th>V1</th>\n",
       "      <th>V2</th>\n",
       "      <th>V3</th>\n",
       "      <th>V4</th>\n",
       "      <th>V5</th>\n",
       "      <th>V6</th>\n",
       "      <th>V7</th>\n",
       "      <th>V8</th>\n",
       "      <th>V9</th>\n",
       "      <th>...</th>\n",
       "      <th>V21</th>\n",
       "      <th>V22</th>\n",
       "      <th>V23</th>\n",
       "      <th>V24</th>\n",
       "      <th>V25</th>\n",
       "      <th>V26</th>\n",
       "      <th>V27</th>\n",
       "      <th>V28</th>\n",
       "      <th>Amount</th>\n",
       "      <th>Class</th>\n",
       "    </tr>\n",
       "  </thead>\n",
       "  <tbody>\n",
       "    <tr>\n",
       "      <th>0</th>\n",
       "      <td>0.0</td>\n",
       "      <td>-1.359807</td>\n",
       "      <td>-0.072781</td>\n",
       "      <td>2.536347</td>\n",
       "      <td>1.378155</td>\n",
       "      <td>-0.338321</td>\n",
       "      <td>0.462388</td>\n",
       "      <td>0.239599</td>\n",
       "      <td>0.098698</td>\n",
       "      <td>0.363787</td>\n",
       "      <td>...</td>\n",
       "      <td>-0.018307</td>\n",
       "      <td>0.277838</td>\n",
       "      <td>-0.110474</td>\n",
       "      <td>0.066928</td>\n",
       "      <td>0.128539</td>\n",
       "      <td>-0.189115</td>\n",
       "      <td>0.133558</td>\n",
       "      <td>-0.021053</td>\n",
       "      <td>149.62</td>\n",
       "      <td>0</td>\n",
       "    </tr>\n",
       "    <tr>\n",
       "      <th>1</th>\n",
       "      <td>0.0</td>\n",
       "      <td>1.191857</td>\n",
       "      <td>0.266151</td>\n",
       "      <td>0.166480</td>\n",
       "      <td>0.448154</td>\n",
       "      <td>0.060018</td>\n",
       "      <td>-0.082361</td>\n",
       "      <td>-0.078803</td>\n",
       "      <td>0.085102</td>\n",
       "      <td>-0.255425</td>\n",
       "      <td>...</td>\n",
       "      <td>-0.225775</td>\n",
       "      <td>-0.638672</td>\n",
       "      <td>0.101288</td>\n",
       "      <td>-0.339846</td>\n",
       "      <td>0.167170</td>\n",
       "      <td>0.125895</td>\n",
       "      <td>-0.008983</td>\n",
       "      <td>0.014724</td>\n",
       "      <td>2.69</td>\n",
       "      <td>0</td>\n",
       "    </tr>\n",
       "    <tr>\n",
       "      <th>2</th>\n",
       "      <td>1.0</td>\n",
       "      <td>-1.358354</td>\n",
       "      <td>-1.340163</td>\n",
       "      <td>1.773209</td>\n",
       "      <td>0.379780</td>\n",
       "      <td>-0.503198</td>\n",
       "      <td>1.800499</td>\n",
       "      <td>0.791461</td>\n",
       "      <td>0.247676</td>\n",
       "      <td>-1.514654</td>\n",
       "      <td>...</td>\n",
       "      <td>0.247998</td>\n",
       "      <td>0.771679</td>\n",
       "      <td>0.909412</td>\n",
       "      <td>-0.689281</td>\n",
       "      <td>-0.327642</td>\n",
       "      <td>-0.139097</td>\n",
       "      <td>-0.055353</td>\n",
       "      <td>-0.059752</td>\n",
       "      <td>378.66</td>\n",
       "      <td>0</td>\n",
       "    </tr>\n",
       "    <tr>\n",
       "      <th>3</th>\n",
       "      <td>1.0</td>\n",
       "      <td>-0.966272</td>\n",
       "      <td>-0.185226</td>\n",
       "      <td>1.792993</td>\n",
       "      <td>-0.863291</td>\n",
       "      <td>-0.010309</td>\n",
       "      <td>1.247203</td>\n",
       "      <td>0.237609</td>\n",
       "      <td>0.377436</td>\n",
       "      <td>-1.387024</td>\n",
       "      <td>...</td>\n",
       "      <td>-0.108300</td>\n",
       "      <td>0.005274</td>\n",
       "      <td>-0.190321</td>\n",
       "      <td>-1.175575</td>\n",
       "      <td>0.647376</td>\n",
       "      <td>-0.221929</td>\n",
       "      <td>0.062723</td>\n",
       "      <td>0.061458</td>\n",
       "      <td>123.50</td>\n",
       "      <td>0</td>\n",
       "    </tr>\n",
       "    <tr>\n",
       "      <th>4</th>\n",
       "      <td>2.0</td>\n",
       "      <td>-1.158233</td>\n",
       "      <td>0.877737</td>\n",
       "      <td>1.548718</td>\n",
       "      <td>0.403034</td>\n",
       "      <td>-0.407193</td>\n",
       "      <td>0.095921</td>\n",
       "      <td>0.592941</td>\n",
       "      <td>-0.270533</td>\n",
       "      <td>0.817739</td>\n",
       "      <td>...</td>\n",
       "      <td>-0.009431</td>\n",
       "      <td>0.798278</td>\n",
       "      <td>-0.137458</td>\n",
       "      <td>0.141267</td>\n",
       "      <td>-0.206010</td>\n",
       "      <td>0.502292</td>\n",
       "      <td>0.219422</td>\n",
       "      <td>0.215153</td>\n",
       "      <td>69.99</td>\n",
       "      <td>0</td>\n",
       "    </tr>\n",
       "  </tbody>\n",
       "</table>\n",
       "<p>5 rows × 31 columns</p>\n",
       "</div>"
      ],
      "text/plain": [
       "   Time        V1        V2        V3        V4        V5        V6        V7  \\\n",
       "0   0.0 -1.359807 -0.072781  2.536347  1.378155 -0.338321  0.462388  0.239599   \n",
       "1   0.0  1.191857  0.266151  0.166480  0.448154  0.060018 -0.082361 -0.078803   \n",
       "2   1.0 -1.358354 -1.340163  1.773209  0.379780 -0.503198  1.800499  0.791461   \n",
       "3   1.0 -0.966272 -0.185226  1.792993 -0.863291 -0.010309  1.247203  0.237609   \n",
       "4   2.0 -1.158233  0.877737  1.548718  0.403034 -0.407193  0.095921  0.592941   \n",
       "\n",
       "         V8        V9  ...       V21       V22       V23       V24       V25  \\\n",
       "0  0.098698  0.363787  ... -0.018307  0.277838 -0.110474  0.066928  0.128539   \n",
       "1  0.085102 -0.255425  ... -0.225775 -0.638672  0.101288 -0.339846  0.167170   \n",
       "2  0.247676 -1.514654  ...  0.247998  0.771679  0.909412 -0.689281 -0.327642   \n",
       "3  0.377436 -1.387024  ... -0.108300  0.005274 -0.190321 -1.175575  0.647376   \n",
       "4 -0.270533  0.817739  ... -0.009431  0.798278 -0.137458  0.141267 -0.206010   \n",
       "\n",
       "        V26       V27       V28  Amount  Class  \n",
       "0 -0.189115  0.133558 -0.021053  149.62      0  \n",
       "1  0.125895 -0.008983  0.014724    2.69      0  \n",
       "2 -0.139097 -0.055353 -0.059752  378.66      0  \n",
       "3 -0.221929  0.062723  0.061458  123.50      0  \n",
       "4  0.502292  0.219422  0.215153   69.99      0  \n",
       "\n",
       "[5 rows x 31 columns]"
      ]
     },
     "execution_count": 26,
     "metadata": {},
     "output_type": "execute_result"
    }
   ],
   "source": [
    "raw_df = pd.read_csv('https://storage.googleapis.com/download.tensorflow.org/data/creditcard.csv')\n",
    "raw_df.head()"
   ]
  },
  {
   "cell_type": "markdown",
   "metadata": {
    "id": "f7iaHyCqG6lk"
   },
   "source": [
    "#### **1.1 Examining the class Imbalance**\n",
    "**1.1.1 How many observations are in this dataset? How many are positive and negative?**\n",
    "(Note: Positive labels are labeled as 1)"
   ]
  },
  {
   "cell_type": "code",
   "execution_count": 27,
   "metadata": {
    "id": "BXv6y3-SG1JJ"
   },
   "outputs": [
    {
     "name": "stdout",
     "output_type": "stream",
     "text": [
      "Number of observations: 284807\n",
      "Number of positive cases: 492 (0.17%)\n",
      "Number of negative cases: 284315 (99.83%)\n"
     ]
    }
   ],
   "source": [
    "# Your Code here\n",
    "\n",
    "total_obs = raw_df.shape[0]\n",
    "pos_obs = raw_df[raw_df['Class']==1].shape[0]\n",
    "neg_obs = raw_df[raw_df['Class']==0].shape[0]\n",
    "\n",
    "print(\"Number of observations:\", total_obs)\n",
    "print(\"Number of positive cases:\", pos_obs, \"(\"+str(round(pos_obs/total_obs*100,2))+\"%)\")\n",
    "print(\"Number of negative cases:\", neg_obs, \"(\"+str(round(neg_obs/total_obs*100,2))+\"%)\")"
   ]
  },
  {
   "cell_type": "markdown",
   "metadata": {
    "id": "La6L9rkGHZD7"
   },
   "source": [
    "#### **1.2 Cleaning and normalizing the data**\n",
    "The raw data has a few issues. We are not sure what the time column actually means so drop the Time column. The Amount column also has a wide range of values covered so we take the log of the Amount column to reduce its range."
   ]
  },
  {
   "cell_type": "code",
   "execution_count": 28,
   "metadata": {
    "id": "weojo62PHXHj"
   },
   "outputs": [],
   "source": [
    "cleaned_df = raw_df.copy()\n",
    "\n",
    "# You don't want the `Time` column.\n",
    "cleaned_df.pop('Time')\n",
    "\n",
    "# The `Amount` column covers a huge range. Convert to log-space.\n",
    "eps = 0.001 # 0 => 0.1¢\n",
    "cleaned_df['Log Amount'] = np.log(cleaned_df.pop('Amount')+eps)"
   ]
  },
  {
   "cell_type": "markdown",
   "metadata": {
    "id": "xOftMoAtI_QU"
   },
   "source": [
    "**1.2.1 Split the dataset into development and test sets. Please set test size as 0.2 and random state as 42. Print the shape of your development and test features**"
   ]
  },
  {
   "cell_type": "code",
   "execution_count": 39,
   "metadata": {
    "id": "Wn9dT8cXIvNi"
   },
   "outputs": [
    {
     "name": "stdout",
     "output_type": "stream",
     "text": [
      "Shape of each dataset\n",
      "X_dev: (227845, 29)\n",
      "y_dev: (227845,)\n",
      "X_test: (56962, 29)\n",
      "y_test: (56962,)\n",
      "\n",
      "proportion of each class in y_dev\n",
      "0    0.998271\n",
      "1    0.001729\n",
      "Name: Class, dtype: float64\n",
      "\n",
      "proportion of each class in y_test\n",
      "0    0.99828\n",
      "1    0.00172\n",
      "Name: Class, dtype: float64\n"
     ]
    }
   ],
   "source": [
    "# Your Code Here\n",
    "from sklearn.model_selection import train_test_split\n",
    "\n",
    "X = cleaned_df.drop(columns = ['Class'])\n",
    "y = cleaned_df['Class']\n",
    "\n",
    "X_dev, X_test, y_dev, y_test = train_test_split(X, y, test_size = 0.2, random_state=42, stratify=y)\n",
    "\n",
    "print(\"Shape of each dataset\")\n",
    "print(\"X_dev:\", X_dev.shape)\n",
    "print(\"y_dev:\", y_dev.shape)\n",
    "print(\"X_test:\", X_test.shape)\n",
    "print(\"y_test:\", y_test.shape)\n",
    "\n",
    "print()\n",
    "\n",
    "print(\"proportion of each class in y_dev\")\n",
    "print(y_dev.value_counts(normalize=True))\n",
    "\n",
    "print()\n",
    "\n",
    "print(\"proportion of each class in y_test\")\n",
    "print(y_test.value_counts(normalize=True))"
   ]
  },
  {
   "cell_type": "markdown",
   "metadata": {
    "id": "xkdb9wmeJKx8"
   },
   "source": [
    "**1.2.2 Normalize the features using Standard Scaler from Sklearn.**"
   ]
  },
  {
   "cell_type": "code",
   "execution_count": 41,
   "metadata": {
    "id": "6NQKlUcwJH1O"
   },
   "outputs": [],
   "source": [
    "# Your Code Here\n",
    "from sklearn.preprocessing import StandardScaler\n",
    "\n",
    "sc = StandardScaler()\n",
    "X_dev = sc.fit_transform(X_dev)\n",
    "X_test = sc.transform(X_test)"
   ]
  },
  {
   "cell_type": "markdown",
   "metadata": {
    "id": "xe_W1FPtJ3PQ"
   },
   "source": [
    "#### **1.3 Defining Model and Performance Metrics**"
   ]
  },
  {
   "cell_type": "code",
   "execution_count": null,
   "metadata": {
    "id": "N9IfewuXJhQ9"
   },
   "outputs": [],
   "source": []
  },
  {
   "cell_type": "markdown",
   "metadata": {
    "id": "8kSY6RNPKKhu"
   },
   "source": [
    "**1.3.1 First, let us fit a default Decision tree classifier. ( use max_depth=10 and random_state=42). Print the AUC and Average Precision values of 5 Fold Cross Validation**"
   ]
  },
  {
   "cell_type": "code",
   "execution_count": 43,
   "metadata": {
    "id": "WUb3DJOHK2UA"
   },
   "outputs": [
    {
     "name": "stdout",
     "output_type": "stream",
     "text": [
      "AUC: 0.8359524571279693\n",
      "Average Precision: 0.641744070059615\n"
     ]
    }
   ],
   "source": [
    "# Your Code here\n",
    "\n",
    "from sklearn.tree import DecisionTreeClassifier\n",
    "from sklearn.model_selection import cross_validate\n",
    "\n",
    "dt = DecisionTreeClassifier(max_depth=10, random_state=42)\n",
    "scores = cross_validate(dt, X_dev, y_dev, cv=5, scoring = ['roc_auc', 'average_precision'])\n",
    "\n",
    "print('AUC:', scores['test_roc_auc'].mean())\n",
    "print('Average Precision:', scores['test_average_precision'].mean())\n"
   ]
  },
  {
   "cell_type": "markdown",
   "metadata": {
    "id": "WOKFElp7K7Dw"
   },
   "source": [
    "**1.3.2 Perform random oversampling on the development dataset.**\n",
    "\n",
    "\n",
    "*   What many positive and negative labels do you observe after random oversampling?\n",
    "*   What is the shape of your development dataset?\n",
    "\n",
    "(Note: Set random state as 42 when performing oversampling)\n"
   ]
  },
  {
   "cell_type": "code",
   "execution_count": 50,
   "metadata": {
    "id": "t-2VVTY8K5c4"
   },
   "outputs": [
    {
     "name": "stdout",
     "output_type": "stream",
     "text": [
      "Shape of X_dev: (227845, 29)\n",
      "Shape of y_dev: (227845,)\n",
      "Shape of X_dev_oversample: (454902, 29)\n",
      "Shape of y_dev_oversample: (454902,)\n"
     ]
    },
    {
     "data": {
      "text/plain": [
       "1    227451\n",
       "0    227451\n",
       "Name: Class, dtype: int64"
      ]
     },
     "execution_count": 50,
     "metadata": {},
     "output_type": "execute_result"
    }
   ],
   "source": [
    "# Your Code here\n",
    "from imblearn.over_sampling import RandomOverSampler\n",
    "\n",
    "ros = RandomOverSampler(random_state=42)\n",
    "\n",
    "X_dev_oversample, y_dev_oversample = ros.fit_resample(X_dev, y_dev)\n",
    "\n",
    "print(\"Shape of X_dev:\", X_dev.shape)\n",
    "print(\"Shape of y_dev:\", y_dev.shape)\n",
    "print(\"Shape of X_dev_oversample:\", X_dev_oversample.shape)\n",
    "print(\"Shape of y_dev_oversample:\", y_dev_oversample.shape)\n",
    "\n",
    "y_dev_oversample.value_counts()"
   ]
  },
  {
   "cell_type": "markdown",
   "metadata": {
    "id": "45ayLBshLuKl"
   },
   "source": [
    "**1.3.3 Repeat 1.3.1 using the dataset you created in the above step(1.3.2 Random oversampling). (Make sure you use the same hyperparameters as 1.3.1. i.e., max_depth=10 and random_state=42. This will help us to compare the models)**"
   ]
  },
  {
   "cell_type": "code",
   "execution_count": 47,
   "metadata": {
    "id": "7DDb_cTFLsKM"
   },
   "outputs": [
    {
     "name": "stdout",
     "output_type": "stream",
     "text": [
      "AUC: 0.9991528810903473\n",
      "Average Precision: 0.9985380738652964\n"
     ]
    }
   ],
   "source": [
    "# Your Code here\n",
    "dt = DecisionTreeClassifier(max_depth=10, random_state=42)\n",
    "scores = cross_validate(dt, X_dev_oversample, y_dev_oversample, cv=5, scoring = ['roc_auc', 'average_precision'])\n",
    "\n",
    "print('AUC:', scores['test_roc_auc'].mean())\n",
    "print('Average Precision:', scores['test_average_precision'].mean())"
   ]
  },
  {
   "cell_type": "markdown",
   "metadata": {
    "id": "Z7un4RnfMX56"
   },
   "source": [
    "**1.3.4 Perform Random undersampling on the development dataset**. \n",
    "- What many positive and negative labels do you observe after random undersampling?\n",
    "- What is the shape of your development dataset?\n",
    "(Note: Set random state as 42 when performing undersampling)"
   ]
  },
  {
   "cell_type": "code",
   "execution_count": 51,
   "metadata": {
    "id": "9LSxKMiZMSTZ"
   },
   "outputs": [
    {
     "name": "stdout",
     "output_type": "stream",
     "text": [
      "Shape of X_dev: (227845, 29)\n",
      "Shape of y_dev: (227845,)\n",
      "Shape of X_dev_undersample: (788, 29)\n",
      "Shape of y_dev_undersample: (788,)\n"
     ]
    },
    {
     "data": {
      "text/plain": [
       "1    394\n",
       "0    394\n",
       "Name: Class, dtype: int64"
      ]
     },
     "execution_count": 51,
     "metadata": {},
     "output_type": "execute_result"
    }
   ],
   "source": [
    "# Your Code here\n",
    "from imblearn.under_sampling import RandomUnderSampler\n",
    "\n",
    "rus = RandomUnderSampler(random_state=42, replacement=False)\n",
    "\n",
    "X_dev_undersample, y_dev_undersample = rus.fit_resample(X_dev, y_dev)\n",
    "\n",
    "print(\"Shape of X_dev:\", X_dev.shape)\n",
    "print(\"Shape of y_dev:\", y_dev.shape)\n",
    "print(\"Shape of X_dev_undersample:\", X_dev_undersample.shape)\n",
    "print(\"Shape of y_dev_undersample:\", y_dev_undersample.shape)\n",
    "\n",
    "y_dev_undersample.value_counts()\n",
    "\n"
   ]
  },
  {
   "cell_type": "markdown",
   "metadata": {
    "id": "EYBOYBcqMr-9"
   },
   "source": [
    "**1.3.5 Repeat 1.3.1 using the dataset you created in the above step(1.3.4 Random undersampling). (Make sure you use the same hyperparameters as 1.3.1. i,e., max_depth=10 and random_state=42. This will help us to compare the models)**"
   ]
  },
  {
   "cell_type": "code",
   "execution_count": 49,
   "metadata": {
    "id": "hMGzlKuQMrXA"
   },
   "outputs": [
    {
     "name": "stdout",
     "output_type": "stream",
     "text": [
      "AUC: 0.9303029182535673\n",
      "Average Precision: 0.9022723811037444\n"
     ]
    }
   ],
   "source": [
    "# Your Code here\n",
    "dt = DecisionTreeClassifier(max_depth=10, random_state=42)\n",
    "scores = cross_validate(dt, X_dev_undersample, y_dev_undersample, cv=5, scoring = ['roc_auc', 'average_precision'])\n",
    "\n",
    "print('AUC:', scores['test_roc_auc'].mean())\n",
    "print('Average Precision:', scores['test_average_precision'].mean())\n"
   ]
  },
  {
   "cell_type": "markdown",
   "metadata": {
    "id": "D03K-7rlNOrI"
   },
   "source": [
    "**1.3.6 Perform Synthetic Minority Oversampling Technique(SMOTE) on the development dataset**\n",
    "- What many positive and negative labels do you observe after performing SMOTE?\n",
    "- What is the shape of your development dataset? (Note: Set random state as 42 when performing SMOTE)"
   ]
  },
  {
   "cell_type": "code",
   "execution_count": 52,
   "metadata": {
    "id": "bFzUvcRiMznd"
   },
   "outputs": [
    {
     "name": "stdout",
     "output_type": "stream",
     "text": [
      "Shape of X_dev: (227845, 29)\n",
      "Shape of y_dev: (227845,)\n",
      "Shape of X_dev_smote: (454902, 29)\n",
      "Shape of y_dev_smote: (454902,)\n"
     ]
    },
    {
     "data": {
      "text/plain": [
       "1    227451\n",
       "0    227451\n",
       "Name: Class, dtype: int64"
      ]
     },
     "execution_count": 52,
     "metadata": {},
     "output_type": "execute_result"
    }
   ],
   "source": [
    "# Your code here\n",
    "from imblearn.over_sampling import SMOTE\n",
    "\n",
    "smote = SMOTE(random_state=42)\n",
    "\n",
    "X_dev_smote, y_dev_smote = smote.fit_resample(X_dev, y_dev)\n",
    "\n",
    "print(\"Shape of X_dev:\", X_dev.shape)\n",
    "print(\"Shape of y_dev:\", y_dev.shape)\n",
    "print(\"Shape of X_dev_smote:\", X_dev_smote.shape)\n",
    "print(\"Shape of y_dev_smote:\", y_dev_smote.shape)\n",
    "\n",
    "y_dev_smote.value_counts()"
   ]
  },
  {
   "cell_type": "markdown",
   "metadata": {
    "id": "ZkVRBIM-Nn9z"
   },
   "source": [
    "**1.3.7 Repeat 1.3.1 using the dataset you created in the above step(1.3.6 SMOTE). (Make sure you use the same hyperparameters as 1.3.1. i.e., max_depth=10 and random_state=42. This will help us to compare the models)**"
   ]
  },
  {
   "cell_type": "code",
   "execution_count": 53,
   "metadata": {
    "id": "-JDjMP2kNnRJ"
   },
   "outputs": [
    {
     "name": "stdout",
     "output_type": "stream",
     "text": [
      "AUC: 0.9974175030591891\n",
      "Average Precision: 0.9964575330041552\n"
     ]
    }
   ],
   "source": [
    "# Your Code here\n",
    "\n",
    "dt = DecisionTreeClassifier(max_depth=10, random_state=42)\n",
    "scores = cross_validate(dt, X_dev_smote, y_dev_smote, cv=5, scoring = ['roc_auc', 'average_precision'])\n",
    "\n",
    "print('AUC:', scores['test_roc_auc'].mean())\n",
    "print('Average Precision:', scores['test_average_precision'].mean())\n"
   ]
  },
  {
   "cell_type": "markdown",
   "metadata": {
    "id": "3b5GAOgCN-pm"
   },
   "source": [
    "**1.3.8 Make predictions on the test set using the four models that you built and report their AUC values.**"
   ]
  },
  {
   "cell_type": "code",
   "execution_count": 77,
   "metadata": {
    "id": "IWIxud5bN9QT"
   },
   "outputs": [
    {
     "name": "stdout",
     "output_type": "stream",
     "text": [
      "No Resampling: 0.8196316775866227\n",
      "Oversampling: 0.9016732009348478\n",
      "Undersampling: 0.8959979162599198\n",
      "SMOTE: 0.8752678248423735\n"
     ]
    }
   ],
   "source": [
    "# Your Code here\n",
    "from sklearn.metrics import roc_auc_score\n",
    "\n",
    "dt1 = DecisionTreeClassifier(max_depth=10, random_state=42)\n",
    "dt1.fit(X_dev, y_dev)\n",
    "y_pred1 = dt1.predict(X_test)\n",
    "y_pred1_proba = dt1.predict_proba(X_test)[:,1]\n",
    "print(\"No Resampling:\", roc_auc_score(y_test, y_pred1_proba))\n",
    "\n",
    "dt2 = DecisionTreeClassifier(max_depth=10, random_state=42)\n",
    "dt2.fit(X_dev_oversample, y_dev_oversample)\n",
    "y_pred2 = dt2.predict(X_test)\n",
    "y_pred2_proba = dt2.predict_proba(X_test)[:,1]\n",
    "print(\"Oversampling:\", roc_auc_score(y_test, y_pred2_proba))\n",
    "\n",
    "dt3 = DecisionTreeClassifier(max_depth=10, random_state=42)\n",
    "dt3.fit(X_dev_undersample, y_dev_undersample)\n",
    "y_pred3 = dt3.predict(X_test)\n",
    "y_pred3_proba = dt3.predict_proba(X_test)[:,1]\n",
    "print(\"Undersampling:\", roc_auc_score(y_test, y_pred3_proba))\n",
    "\n",
    "dt4 = DecisionTreeClassifier(max_depth=10, random_state=42)\n",
    "dt4.fit(X_dev_smote, y_dev_smote)\n",
    "y_pred4 = dt4.predict(X_test)\n",
    "y_pred4_proba = dt4.predict_proba(X_test)[:,1]\n",
    "print(\"SMOTE:\", roc_auc_score(y_test, y_pred4_proba))"
   ]
  },
  {
   "cell_type": "markdown",
   "metadata": {
    "id": "8jSslBq5OhNs"
   },
   "source": [
    "**1.3.9 Plot Confusion Matrices for all the four models on the test set. Comment your results**"
   ]
  },
  {
   "cell_type": "code",
   "execution_count": 93,
   "metadata": {
    "id": "ZzWN-hZIOeRk"
   },
   "outputs": [
    {
     "data": {
      "image/png": "[encoded data removed]",
      "text/plain": [
       "<Figure size 864x720 with 8 Axes>"
      ]
     },
     "metadata": {
      "needs_background": "light"
     },
     "output_type": "display_data"
    }
   ],
   "source": [
    "# Your Code here\n",
    "from sklearn.metrics import confusion_matrix, ConfusionMatrixDisplay\n",
    "\n",
    "fig, axes = plt.subplots(2,2, figsize = (12,10))\n",
    "\n",
    "axes[0,0].set_title(\"No Resampling\")\n",
    "cm1 = confusion_matrix(y_test, y_pred1, labels = dt1.classes_)\n",
    "disp1 = ConfusionMatrixDisplay(confusion_matrix=cm1, display_labels=dt1.classes_)\n",
    "disp1.plot(ax = axes[0,0])\n",
    "\n",
    "axes[0,1].set_title(\"Oversampling\")\n",
    "cm2 = confusion_matrix(y_test, y_pred2, labels = dt2.classes_)\n",
    "disp2 = ConfusionMatrixDisplay(confusion_matrix=cm2, display_labels=dt2.classes_)\n",
    "disp2.plot(ax = axes[0,1])\n",
    "\n",
    "axes[1,0].set_title(\"Undersampling\")\n",
    "cm3 = confusion_matrix(y_test, y_pred3, labels = dt3.classes_)\n",
    "disp3 = ConfusionMatrixDisplay(confusion_matrix=cm3, display_labels=dt3.classes_)\n",
    "disp3.plot(ax = axes[1,0])\n",
    "\n",
    "axes[1,1].set_title(\"SMOTE\")\n",
    "cm4 = confusion_matrix(y_test, y_pred4, labels = dt4.classes_)\n",
    "disp4 = ConfusionMatrixDisplay(confusion_matrix=cm4, display_labels=dt4.classes_)\n",
    "disp4.plot(ax = axes[1,1])\n",
    "\n",
    "plt.show()\n",
    "\n",
    "# With undersampling, we see that we get more false positive predictions. \n",
    "# This is also true for oversampling and SMOTE, although the degree is much smaller. \n",
    "# On the other hand, no resampling gives us less incorrect predictions. \n",
    "# At first glance this might seem odd, since our AUC is lowest for the no resampling case. \n",
    "# However we can guess that the we are getting poor results from the other 3 confusion matrices because the default threshold of 0.5 is not the best choice. \n"
   ]
  },
  {
   "cell_type": "markdown",
   "metadata": {
    "id": "OqgVbbL0OwOh"
   },
   "source": [
    "**1.3.10 Plot ROC for all the four models on the test set in a single plot. Make sure you label axes and legend properly. Comment your results**"
   ]
  },
  {
   "cell_type": "code",
   "execution_count": 91,
   "metadata": {
    "id": "oslykiR-OsEj"
   },
   "outputs": [
    {
     "data": {
      "image/png": "[encoded data removed]",
      "text/plain": [
       "<Figure size 432x288 with 1 Axes>"
      ]
     },
     "metadata": {
      "needs_background": "light"
     },
     "output_type": "display_data"
    }
   ],
   "source": [
    "# Your code\n",
    "from sklearn.metrics import RocCurveDisplay\n",
    "\n",
    "ax = plt.gca()\n",
    "roc_disp1 = RocCurveDisplay.from_predictions(y_test, y_pred1_proba, ax=ax, name='No Sampling')\n",
    "roc_disp2 = RocCurveDisplay.from_predictions(y_test, y_pred2_proba, ax=ax, name='Oversampling')\n",
    "roc_disp3 = RocCurveDisplay.from_predictions(y_test, y_pred3_proba, ax=ax, name='Undersampling')\n",
    "roc_disp4 = RocCurveDisplay.from_predictions(y_test, y_pred4_proba, ax=ax, name='SMOTE')\n",
    "\n",
    "plt.show()"
   ]
  },
  {
   "cell_type": "markdown",
   "metadata": {
    "id": "7yzjUR8kPEgh"
   },
   "source": [
    "**1.3.11 Train a balanced default Decision tree classifier. (use max_depth=10 and random_state=42). ( balance the class weights). Print the AUC and average precision on dev set**"
   ]
  },
  {
   "cell_type": "code",
   "execution_count": 94,
   "metadata": {
    "id": "vJdAv81NO7Zr"
   },
   "outputs": [
    {
     "name": "stdout",
     "output_type": "stream",
     "text": [
      "AUC: 0.905514887383234\n",
      "Average Precision: 0.5236357414975382\n"
     ]
    }
   ],
   "source": [
    "# Your code here\n",
    "\n",
    "dt = DecisionTreeClassifier(max_depth=10, random_state=42, class_weight='balanced')\n",
    "scores = cross_validate(dt, X_dev, y_dev, cv=5, scoring = ['roc_auc', 'average_precision'])\n",
    "\n",
    "print('AUC:', scores['test_roc_auc'].mean())\n",
    "print('Average Precision:', scores['test_average_precision'].mean())\n"
   ]
  },
  {
   "cell_type": "markdown",
   "metadata": {
    "id": "d3rKdyQOP1Eg"
   },
   "source": [
    "<!-- **1.3.12 Train a balanced Decision tree classifier. (You can use max_depth=10 and random_state=42)( balance the class weights). Print the AUC and average precision on test set** (Use Random state = 42) -->"
   ]
  },
  {
   "cell_type": "markdown",
   "metadata": {
    "id": "C0HfvhYWQMNf"
   },
   "source": [
    "**1.3.12 Plot confusion matrix on test set using the above model and comment on your results**"
   ]
  },
  {
   "cell_type": "code",
   "execution_count": 97,
   "metadata": {
    "id": "PIK5MUdeQLfZ"
   },
   "outputs": [
    {
     "data": {
      "image/png": "[encoded data removed]",
      "text/plain": [
       "<Figure size 432x288 with 2 Axes>"
      ]
     },
     "metadata": {
      "needs_background": "light"
     },
     "output_type": "display_data"
    }
   ],
   "source": [
    "# Your code here\n",
    "dt = DecisionTreeClassifier(max_depth=10, random_state=42, class_weight='balanced')\n",
    "dt.fit(X_dev, y_dev)\n",
    "y_pred = dt.predict(X_test)\n",
    "\n",
    "fig, ax = plt.subplots()\n",
    "ax.set_title('Confusion Matrix: Balanced Decision Tree')\n",
    "cm = confusion_matrix(y_test, y_pred, labels = dt.classes_)\n",
    "disp = ConfusionMatrixDisplay(confusion_matrix=cm, display_labels=dt.classes_)\n",
    "disp.plot(ax = ax)\n",
    "\n",
    "plt.show()\n",
    "\n",
    "# The confusion matrix is similar to the one obtained through oversampling. "
   ]
  },
  {
   "cell_type": "code",
   "execution_count": null,
   "metadata": {},
   "outputs": [],
   "source": []
  }
 ],
 "metadata": {
  "colab": {
   "collapsed_sections": [],
   "provenance": []
  },
  "kernelspec": {
   "display_name": "Python 3",
   "language": "python",
   "name": "python3"
  },
  "language_info": {
   "codemirror_mode": {
    "name": "ipython",
    "version": 3
   },
   "file_extension": ".py",
   "mimetype": "text/x-python",
   "name": "python",
   "nbconvert_exporter": "python",
   "pygments_lexer": "ipython3",
   "version": "3.8.3"
  }
 },
 "nbformat": 4,
 "nbformat_minor": 1
}
